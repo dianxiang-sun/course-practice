{
 "metadata": {
  "language_info": {
   "codemirror_mode": {
    "name": "ipython",
    "version": 3
   },
   "file_extension": ".py",
   "mimetype": "text/x-python",
   "name": "python",
   "nbconvert_exporter": "python",
   "pygments_lexer": "ipython3",
   "version": 3
  },
  "orig_nbformat": 2,
  "kernelspec": {
   "name": "python_defaultSpec_1596015417985",
   "display_name": "Python 3.8.0 64-bit"
  }
 },
 "nbformat": 4,
 "nbformat_minor": 2,
 "cells": [
  {
   "cell_type": "code",
   "execution_count": 1,
   "metadata": {},
   "outputs": [],
   "source": [
    "import numpy as np"
   ]
  },
  {
   "cell_type": "code",
   "execution_count": 2,
   "metadata": {
    "tags": []
   },
   "outputs": [
    {
     "output_type": "stream",
     "name": "stdout",
     "text": "<class 'numpy.ndarray'>\nint32\n(3,)\n1 2 3\n[1 2 4]\n(2, 3)\n1 2 4\n[4 5 6]\n"
    }
   ],
   "source": [
    "arr = np.array([1,2,3])\n",
    "print(type(arr))\n",
    "print(arr.dtype)\n",
    "print(arr.shape)\n",
    "print(arr[0], arr[1], arr[2])\n",
    "arr[2] = 4\n",
    "print(arr)\n",
    "\n",
    "arr2 = np.array([[1,2,3], [4,5,6]])\n",
    "print(arr2.shape)\n",
    "print(arr2[0,0], arr2[0,1], arr2[1,0])\n",
    "print(arr2[-1])"
   ]
  },
  {
   "cell_type": "code",
   "execution_count": 3,
   "metadata": {
    "tags": []
   },
   "outputs": [
    {
     "output_type": "stream",
     "name": "stdout",
     "text": "[[0. 0.]\n [0. 0.]]\n[[1. 1.]]\n[[5 5]\n [5 5]]\n[[1. 0. 0.]\n [0. 1. 0.]\n [0. 0. 1.]]\n[[0. 1. 0. 0.]\n [0. 0. 1. 0.]\n [0. 0. 0. 1.]\n [0. 0. 0. 0.]]\n[[0.74279883 0.02695154]\n [0.53775093 0.73655491]]\n"
    }
   ],
   "source": [
    "zero = np.zeros((2, 2))\n",
    "print(zero)\n",
    "\n",
    "one = np.ones((1, 2))\n",
    "print(one)\n",
    "\n",
    "constant = np.full((2, 2), 5)\n",
    "print(constant)\n",
    "\n",
    "diag = np.eye(3)\n",
    "print(diag)\n",
    "\n",
    "diag = np.eye(4, k=1)\n",
    "print(diag)\n",
    "\n",
    "rand = np.random.random((2, 2))\n",
    "print(rand)"
   ]
  },
  {
   "cell_type": "code",
   "execution_count": 4,
   "metadata": {
    "tags": []
   },
   "outputs": [
    {
     "output_type": "stream",
     "name": "stdout",
     "text": "[0 2 4 6]\n[[1 2]\n [5 6]]\n"
    }
   ],
   "source": [
    "arr = np.arange(10)\n",
    "print(arr[0:8:2])\n",
    "\n",
    "arr = np.array([[1, 2, 3, 4], [5, 6, 7, 8], [9, 10, 11, 12]])\n",
    "print(arr[:2, :2])"
   ]
  },
  {
   "cell_type": "code",
   "execution_count": 5,
   "metadata": {
    "tags": []
   },
   "outputs": [
    {
     "output_type": "stream",
     "name": "stdout",
     "text": "[1 4 6]\n"
    }
   ],
   "source": [
    "arr = np.array([[1, 2], [3, 4], [5, 6]])\n",
    "print(arr[[0, 1, 2], [0, 1, 1]])"
   ]
  },
  {
   "cell_type": "code",
   "execution_count": 6,
   "metadata": {
    "tags": []
   },
   "outputs": [
    {
     "output_type": "stream",
     "name": "stdout",
     "text": "[[0 1 2]\n [3 4 5]\n [6 7 8]]\n"
    }
   ],
   "source": [
    "arr = np.arange(9)\n",
    "reshape_arr = arr.reshape(3, 3)\n",
    "print(reshape_arr)"
   ]
  },
  {
   "cell_type": "code",
   "execution_count": 7,
   "metadata": {
    "tags": []
   },
   "outputs": [
    {
     "output_type": "stream",
     "name": "stdout",
     "text": "4\n"
    }
   ],
   "source": [
    "arr = np.arange(8).reshape(2, 4)\n",
    "\n",
    "#print(arr[4])\n",
    "\n",
    "print(arr.flat[4])"
   ]
  },
  {
   "cell_type": "code",
   "execution_count": 8,
   "metadata": {
    "tags": []
   },
   "outputs": [
    {
     "output_type": "stream",
     "name": "stdout",
     "text": "[0 1 2 3 4 5 6 7]\n"
    }
   ],
   "source": [
    "arr = np.arange(8).reshape(2, 4)\n",
    "\n",
    "print(arr.flatten())"
   ]
  },
  {
   "cell_type": "code",
   "execution_count": 9,
   "metadata": {
    "tags": []
   },
   "outputs": [
    {
     "output_type": "stream",
     "name": "stdout",
     "text": "[[0 4]\n [1 5]\n [2 6]\n [3 7]]\n"
    }
   ],
   "source": [
    "arr = np.arange(8).reshape(2, 4)\n",
    "\n",
    "print(arr.transpose())"
   ]
  },
  {
   "cell_type": "code",
   "execution_count": 10,
   "metadata": {
    "tags": []
   },
   "outputs": [
    {
     "output_type": "stream",
     "name": "stdout",
     "text": "[[5 6 7]\n [6 7 8]\n [7 8 9]]\n[[5. 6. 7.]\n [6. 7. 8.]\n [7. 8. 9.]]\n"
    }
   ],
   "source": [
    "a = np.array([[1], [2], [3]])\n",
    "b = np.array([4, 5, 6])\n",
    "c = a + b\n",
    "print(c)\n",
    "\n",
    "bc = np.broadcast(a, b)\n",
    "x = np.zeros(bc.shape)\n",
    "\n",
    "x.flat = [a + b for (a,b) in bc]\n",
    "print(x)"
   ]
  },
  {
   "cell_type": "code",
   "execution_count": 11,
   "metadata": {
    "tags": []
   },
   "outputs": [
    {
     "output_type": "stream",
     "name": "stdout",
     "text": "[[1 2 3]\n [4 5 6]\n [1 2 3]]\n"
    }
   ],
   "source": [
    "arr = np.array([[1, 2, 3], [4, 5, 6]])\n",
    "arr_resized = np.resize(arr, [3, 3])\n",
    "print(arr_resized)"
   ]
  },
  {
   "cell_type": "code",
   "execution_count": 12,
   "metadata": {
    "tags": []
   },
   "outputs": [
    {
     "output_type": "stream",
     "name": "stdout",
     "text": "[1 2 3]\n[1 2 3]\n['a' 'b' 'c'] [0 1 3]\n['a' 'b' 'c'] [2 2 1]\n"
    }
   ],
   "source": [
    "unique = np.unique([1, 1, 2, 2, 3, 3])\n",
    "print(unique)\n",
    "\n",
    "arr = np.array([[1, 1], [2, 3]])\n",
    "print(np.unique(arr))\n",
    "\n",
    "arr = np.array(['a', 'b', 'b', 'c', 'a'])\n",
    "unique, indices = np.unique(arr, return_index=True)\n",
    "print(unique, indices)\n",
    "\n",
    "count = np.unique(arr, return_counts=True)\n",
    "print(count[0], count[1])"
   ]
  },
  {
   "cell_type": "code",
   "execution_count": null,
   "metadata": {},
   "outputs": [],
   "source": []
  }
 ]
}