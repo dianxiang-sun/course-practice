{
 "metadata": {
  "language_info": {
   "codemirror_mode": {
    "name": "ipython",
    "version": 3
   },
   "file_extension": ".py",
   "mimetype": "text/x-python",
   "name": "python",
   "nbconvert_exporter": "python",
   "pygments_lexer": "ipython3",
   "version": 3
  },
  "orig_nbformat": 2,
  "kernelspec": {
   "name": "python_defaultSpec_1597290302151",
   "display_name": "Python 3.8.3 64-bit ('base': conda)"
  }
 },
 "nbformat": 4,
 "nbformat_minor": 2,
 "cells": [
  {
   "cell_type": "code",
   "execution_count": 2,
   "metadata": {},
   "outputs": [],
   "source": [
    "import pandas as pd"
   ]
  },
  {
   "cell_type": "code",
   "execution_count": 4,
   "metadata": {},
   "outputs": [],
   "source": [
    "sales = pd.read_csv('sales_data_sample.csv', encoding='latin')"
   ]
  },
  {
   "cell_type": "code",
   "execution_count": 5,
   "metadata": {},
   "outputs": [
    {
     "output_type": "execute_result",
     "data": {
      "text/plain": "      ORDERNUMBER  QUANTITYORDERED  PRICEEACH  ORDERLINENUMBER    SALES  \\\n0           10107               30      95.70                2  2871.00   \n1           10121               34      81.35                5  2765.90   \n2           10134               41      94.74                2  3884.34   \n3           10145               45      83.26                6  3746.70   \n4           10159               49     100.00               14  5205.27   \n...           ...              ...        ...              ...      ...   \n2818        10350               20     100.00               15  2244.40   \n2819        10373               29     100.00                1  3978.51   \n2820        10386               43     100.00                4  5417.57   \n2821        10397               34      62.24                1  2116.16   \n2822        10414               47      65.52                9  3079.44   \n\n            ORDERDATE    STATUS  QTR_ID  MONTH_ID  YEAR_ID  ...  \\\n0      2/24/2003 0:00   Shipped       1         2     2003  ...   \n1       5/7/2003 0:00   Shipped       2         5     2003  ...   \n2       7/1/2003 0:00   Shipped       3         7     2003  ...   \n3      8/25/2003 0:00   Shipped       3         8     2003  ...   \n4     10/10/2003 0:00   Shipped       4        10     2003  ...   \n...               ...       ...     ...       ...      ...  ...   \n2818   12/2/2004 0:00   Shipped       4        12     2004  ...   \n2819   1/31/2005 0:00   Shipped       1         1     2005  ...   \n2820    3/1/2005 0:00  Resolved       1         3     2005  ...   \n2821   3/28/2005 0:00   Shipped       1         3     2005  ...   \n2822    5/6/2005 0:00   On Hold       2         5     2005  ...   \n\n                       ADDRESSLINE1  ADDRESSLINE2           CITY STATE  \\\n0           897 Long Airport Avenue           NaN            NYC    NY   \n1                59 rue de l'Abbaye           NaN          Reims   NaN   \n2     27 rue du Colonel Pierre Avia           NaN          Paris   NaN   \n3                78934 Hillside Dr.           NaN       Pasadena    CA   \n4                   7734 Strong St.           NaN  San Francisco    CA   \n...                             ...           ...            ...   ...   \n2818             C/ Moralzarzal, 86           NaN         Madrid   NaN   \n2819                    Torikatu 38           NaN           Oulu   NaN   \n2820             C/ Moralzarzal, 86           NaN         Madrid   NaN   \n2821          1 rue Alsace-Lorraine           NaN       Toulouse   NaN   \n2822             8616 Spinnaker Dr.           NaN         Boston    MA   \n\n     POSTALCODE  COUNTRY TERRITORY CONTACTLASTNAME CONTACTFIRSTNAME DEALSIZE  \n0         10022      USA       NaN              Yu             Kwai    Small  \n1         51100   France      EMEA         Henriot             Paul    Small  \n2         75508   France      EMEA        Da Cunha           Daniel   Medium  \n3         90003      USA       NaN           Young            Julie   Medium  \n4           NaN      USA       NaN           Brown            Julie   Medium  \n...         ...      ...       ...             ...              ...      ...  \n2818      28034    Spain      EMEA          Freyre            Diego    Small  \n2819      90110  Finland      EMEA       Koskitalo           Pirkko   Medium  \n2820      28034    Spain      EMEA          Freyre            Diego   Medium  \n2821      31000   France      EMEA          Roulet          Annette    Small  \n2822      51003      USA       NaN         Yoshido             Juri   Medium  \n\n[2823 rows x 25 columns]",
      "text/html": "<div>\n<style scoped>\n    .dataframe tbody tr th:only-of-type {\n        vertical-align: middle;\n    }\n\n    .dataframe tbody tr th {\n        vertical-align: top;\n    }\n\n    .dataframe thead th {\n        text-align: right;\n    }\n</style>\n<table border=\"1\" class=\"dataframe\">\n  <thead>\n    <tr style=\"text-align: right;\">\n      <th></th>\n      <th>ORDERNUMBER</th>\n      <th>QUANTITYORDERED</th>\n      <th>PRICEEACH</th>\n      <th>ORDERLINENUMBER</th>\n      <th>SALES</th>\n      <th>ORDERDATE</th>\n      <th>STATUS</th>\n      <th>QTR_ID</th>\n      <th>MONTH_ID</th>\n      <th>YEAR_ID</th>\n      <th>...</th>\n      <th>ADDRESSLINE1</th>\n      <th>ADDRESSLINE2</th>\n      <th>CITY</th>\n      <th>STATE</th>\n      <th>POSTALCODE</th>\n      <th>COUNTRY</th>\n      <th>TERRITORY</th>\n      <th>CONTACTLASTNAME</th>\n      <th>CONTACTFIRSTNAME</th>\n      <th>DEALSIZE</th>\n    </tr>\n  </thead>\n  <tbody>\n    <tr>\n      <th>0</th>\n      <td>10107</td>\n      <td>30</td>\n      <td>95.70</td>\n      <td>2</td>\n      <td>2871.00</td>\n      <td>2/24/2003 0:00</td>\n      <td>Shipped</td>\n      <td>1</td>\n      <td>2</td>\n      <td>2003</td>\n      <td>...</td>\n      <td>897 Long Airport Avenue</td>\n      <td>NaN</td>\n      <td>NYC</td>\n      <td>NY</td>\n      <td>10022</td>\n      <td>USA</td>\n      <td>NaN</td>\n      <td>Yu</td>\n      <td>Kwai</td>\n      <td>Small</td>\n    </tr>\n    <tr>\n      <th>1</th>\n      <td>10121</td>\n      <td>34</td>\n      <td>81.35</td>\n      <td>5</td>\n      <td>2765.90</td>\n      <td>5/7/2003 0:00</td>\n      <td>Shipped</td>\n      <td>2</td>\n      <td>5</td>\n      <td>2003</td>\n      <td>...</td>\n      <td>59 rue de l'Abbaye</td>\n      <td>NaN</td>\n      <td>Reims</td>\n      <td>NaN</td>\n      <td>51100</td>\n      <td>France</td>\n      <td>EMEA</td>\n      <td>Henriot</td>\n      <td>Paul</td>\n      <td>Small</td>\n    </tr>\n    <tr>\n      <th>2</th>\n      <td>10134</td>\n      <td>41</td>\n      <td>94.74</td>\n      <td>2</td>\n      <td>3884.34</td>\n      <td>7/1/2003 0:00</td>\n      <td>Shipped</td>\n      <td>3</td>\n      <td>7</td>\n      <td>2003</td>\n      <td>...</td>\n      <td>27 rue du Colonel Pierre Avia</td>\n      <td>NaN</td>\n      <td>Paris</td>\n      <td>NaN</td>\n      <td>75508</td>\n      <td>France</td>\n      <td>EMEA</td>\n      <td>Da Cunha</td>\n      <td>Daniel</td>\n      <td>Medium</td>\n    </tr>\n    <tr>\n      <th>3</th>\n      <td>10145</td>\n      <td>45</td>\n      <td>83.26</td>\n      <td>6</td>\n      <td>3746.70</td>\n      <td>8/25/2003 0:00</td>\n      <td>Shipped</td>\n      <td>3</td>\n      <td>8</td>\n      <td>2003</td>\n      <td>...</td>\n      <td>78934 Hillside Dr.</td>\n      <td>NaN</td>\n      <td>Pasadena</td>\n      <td>CA</td>\n      <td>90003</td>\n      <td>USA</td>\n      <td>NaN</td>\n      <td>Young</td>\n      <td>Julie</td>\n      <td>Medium</td>\n    </tr>\n    <tr>\n      <th>4</th>\n      <td>10159</td>\n      <td>49</td>\n      <td>100.00</td>\n      <td>14</td>\n      <td>5205.27</td>\n      <td>10/10/2003 0:00</td>\n      <td>Shipped</td>\n      <td>4</td>\n      <td>10</td>\n      <td>2003</td>\n      <td>...</td>\n      <td>7734 Strong St.</td>\n      <td>NaN</td>\n      <td>San Francisco</td>\n      <td>CA</td>\n      <td>NaN</td>\n      <td>USA</td>\n      <td>NaN</td>\n      <td>Brown</td>\n      <td>Julie</td>\n      <td>Medium</td>\n    </tr>\n    <tr>\n      <th>...</th>\n      <td>...</td>\n      <td>...</td>\n      <td>...</td>\n      <td>...</td>\n      <td>...</td>\n      <td>...</td>\n      <td>...</td>\n      <td>...</td>\n      <td>...</td>\n      <td>...</td>\n      <td>...</td>\n      <td>...</td>\n      <td>...</td>\n      <td>...</td>\n      <td>...</td>\n      <td>...</td>\n      <td>...</td>\n      <td>...</td>\n      <td>...</td>\n      <td>...</td>\n      <td>...</td>\n    </tr>\n    <tr>\n      <th>2818</th>\n      <td>10350</td>\n      <td>20</td>\n      <td>100.00</td>\n      <td>15</td>\n      <td>2244.40</td>\n      <td>12/2/2004 0:00</td>\n      <td>Shipped</td>\n      <td>4</td>\n      <td>12</td>\n      <td>2004</td>\n      <td>...</td>\n      <td>C/ Moralzarzal, 86</td>\n      <td>NaN</td>\n      <td>Madrid</td>\n      <td>NaN</td>\n      <td>28034</td>\n      <td>Spain</td>\n      <td>EMEA</td>\n      <td>Freyre</td>\n      <td>Diego</td>\n      <td>Small</td>\n    </tr>\n    <tr>\n      <th>2819</th>\n      <td>10373</td>\n      <td>29</td>\n      <td>100.00</td>\n      <td>1</td>\n      <td>3978.51</td>\n      <td>1/31/2005 0:00</td>\n      <td>Shipped</td>\n      <td>1</td>\n      <td>1</td>\n      <td>2005</td>\n      <td>...</td>\n      <td>Torikatu 38</td>\n      <td>NaN</td>\n      <td>Oulu</td>\n      <td>NaN</td>\n      <td>90110</td>\n      <td>Finland</td>\n      <td>EMEA</td>\n      <td>Koskitalo</td>\n      <td>Pirkko</td>\n      <td>Medium</td>\n    </tr>\n    <tr>\n      <th>2820</th>\n      <td>10386</td>\n      <td>43</td>\n      <td>100.00</td>\n      <td>4</td>\n      <td>5417.57</td>\n      <td>3/1/2005 0:00</td>\n      <td>Resolved</td>\n      <td>1</td>\n      <td>3</td>\n      <td>2005</td>\n      <td>...</td>\n      <td>C/ Moralzarzal, 86</td>\n      <td>NaN</td>\n      <td>Madrid</td>\n      <td>NaN</td>\n      <td>28034</td>\n      <td>Spain</td>\n      <td>EMEA</td>\n      <td>Freyre</td>\n      <td>Diego</td>\n      <td>Medium</td>\n    </tr>\n    <tr>\n      <th>2821</th>\n      <td>10397</td>\n      <td>34</td>\n      <td>62.24</td>\n      <td>1</td>\n      <td>2116.16</td>\n      <td>3/28/2005 0:00</td>\n      <td>Shipped</td>\n      <td>1</td>\n      <td>3</td>\n      <td>2005</td>\n      <td>...</td>\n      <td>1 rue Alsace-Lorraine</td>\n      <td>NaN</td>\n      <td>Toulouse</td>\n      <td>NaN</td>\n      <td>31000</td>\n      <td>France</td>\n      <td>EMEA</td>\n      <td>Roulet</td>\n      <td>Annette</td>\n      <td>Small</td>\n    </tr>\n    <tr>\n      <th>2822</th>\n      <td>10414</td>\n      <td>47</td>\n      <td>65.52</td>\n      <td>9</td>\n      <td>3079.44</td>\n      <td>5/6/2005 0:00</td>\n      <td>On Hold</td>\n      <td>2</td>\n      <td>5</td>\n      <td>2005</td>\n      <td>...</td>\n      <td>8616 Spinnaker Dr.</td>\n      <td>NaN</td>\n      <td>Boston</td>\n      <td>MA</td>\n      <td>51003</td>\n      <td>USA</td>\n      <td>NaN</td>\n      <td>Yoshido</td>\n      <td>Juri</td>\n      <td>Medium</td>\n    </tr>\n  </tbody>\n</table>\n<p>2823 rows × 25 columns</p>\n</div>"
     },
     "metadata": {},
     "execution_count": 5
    }
   ],
   "source": [
    "sales"
   ]
  },
  {
   "cell_type": "code",
   "execution_count": 6,
   "metadata": {},
   "outputs": [
    {
     "output_type": "execute_result",
     "data": {
      "text/plain": "Index(['ORDERNUMBER', 'QUANTITYORDERED', 'PRICEEACH', 'ORDERLINENUMBER',\n       'SALES', 'ORDERDATE', 'STATUS', 'QTR_ID', 'MONTH_ID', 'YEAR_ID',\n       'PRODUCTLINE', 'MSRP', 'PRODUCTCODE', 'CUSTOMERNAME', 'PHONE',\n       'ADDRESSLINE1', 'ADDRESSLINE2', 'CITY', 'STATE', 'POSTALCODE',\n       'COUNTRY', 'TERRITORY', 'CONTACTLASTNAME', 'CONTACTFIRSTNAME',\n       'DEALSIZE'],\n      dtype='object')"
     },
     "metadata": {},
     "execution_count": 6
    }
   ],
   "source": [
    "sales.columns"
   ]
  },
  {
   "cell_type": "code",
   "execution_count": 10,
   "metadata": {},
   "outputs": [],
   "source": [
    "data = pd.DataFrame(sales.loc[:50,['ORDERNUMBER','CUSTOMERNAME', 'ADDRESSLINE1','POSTALCODE','STATUS']])\n",
    "data.to_csv('new_sales.csv')"
   ]
  },
  {
   "cell_type": "code",
   "execution_count": 11,
   "metadata": {},
   "outputs": [],
   "source": [
    "users = pd.read_json('users.json')"
   ]
  },
  {
   "cell_type": "code",
   "execution_count": 12,
   "metadata": {},
   "outputs": [
    {
     "output_type": "execute_result",
     "data": {
      "text/plain": "   id first_name  last_name                   email  gender      ip_address\n0   1   Jeanette  Penddreth  jpenddreth0@census.gov  Female     26.58.193.2\n1   2    Giavani   Frediani   gfrediani1@senate.gov    Male   229.179.4.212\n2   3      Noell        Bea     nbea2@imageshack.us  Female  180.66.162.255\n3   4    Willard      Valek          wvalek3@vk.com    Male    67.76.188.26",
      "text/html": "<div>\n<style scoped>\n    .dataframe tbody tr th:only-of-type {\n        vertical-align: middle;\n    }\n\n    .dataframe tbody tr th {\n        vertical-align: top;\n    }\n\n    .dataframe thead th {\n        text-align: right;\n    }\n</style>\n<table border=\"1\" class=\"dataframe\">\n  <thead>\n    <tr style=\"text-align: right;\">\n      <th></th>\n      <th>id</th>\n      <th>first_name</th>\n      <th>last_name</th>\n      <th>email</th>\n      <th>gender</th>\n      <th>ip_address</th>\n    </tr>\n  </thead>\n  <tbody>\n    <tr>\n      <th>0</th>\n      <td>1</td>\n      <td>Jeanette</td>\n      <td>Penddreth</td>\n      <td>jpenddreth0@census.gov</td>\n      <td>Female</td>\n      <td>26.58.193.2</td>\n    </tr>\n    <tr>\n      <th>1</th>\n      <td>2</td>\n      <td>Giavani</td>\n      <td>Frediani</td>\n      <td>gfrediani1@senate.gov</td>\n      <td>Male</td>\n      <td>229.179.4.212</td>\n    </tr>\n    <tr>\n      <th>2</th>\n      <td>3</td>\n      <td>Noell</td>\n      <td>Bea</td>\n      <td>nbea2@imageshack.us</td>\n      <td>Female</td>\n      <td>180.66.162.255</td>\n    </tr>\n    <tr>\n      <th>3</th>\n      <td>4</td>\n      <td>Willard</td>\n      <td>Valek</td>\n      <td>wvalek3@vk.com</td>\n      <td>Male</td>\n      <td>67.76.188.26</td>\n    </tr>\n  </tbody>\n</table>\n</div>"
     },
     "metadata": {},
     "execution_count": 12
    }
   ],
   "source": [
    "users"
   ]
  },
  {
   "cell_type": "code",
   "execution_count": 13,
   "metadata": {},
   "outputs": [],
   "source": [
    "import numpy as np"
   ]
  },
  {
   "cell_type": "code",
   "execution_count": 14,
   "metadata": {},
   "outputs": [],
   "source": [
    "dfj = pd.DataFrame(np.random.randn(5,2), columns =['record1','record2'])\n",
    "dfj.to_json('new_users.json', orient='columns')"
   ]
  },
  {
   "cell_type": "code",
   "execution_count": 17,
   "metadata": {},
   "outputs": [],
   "source": [
    "import requests"
   ]
  },
  {
   "cell_type": "code",
   "execution_count": 18,
   "metadata": {},
   "outputs": [],
   "source": [
    "url = 'http://jsonplaceholder.typicode.com/users'\n",
    "res = requests.get(url)"
   ]
  },
  {
   "cell_type": "code",
   "execution_count": 19,
   "metadata": {},
   "outputs": [
    {
     "output_type": "execute_result",
     "data": {
      "text/plain": "<Response [200]>"
     },
     "metadata": {},
     "execution_count": 19
    }
   ],
   "source": [
    "res"
   ]
  },
  {
   "cell_type": "code",
   "execution_count": 20,
   "metadata": {},
   "outputs": [
    {
     "output_type": "execute_result",
     "data": {
      "text/plain": "{'id': 1,\n 'name': 'Leanne Graham',\n 'username': 'Bret',\n 'email': 'Sincere@april.biz',\n 'address': {'street': 'Kulas Light',\n  'suite': 'Apt. 556',\n  'city': 'Gwenborough',\n  'zipcode': '92998-3874',\n  'geo': {'lat': '-37.3159', 'lng': '81.1496'}},\n 'phone': '1-770-736-8031 x56442',\n 'website': 'hildegard.org',\n 'company': {'name': 'Romaguera-Crona',\n  'catchPhrase': 'Multi-layered client-server neural-net',\n  'bs': 'harness real-time e-markets'}}"
     },
     "metadata": {},
     "execution_count": 20
    }
   ],
   "source": [
    "all_users = res.json()\n",
    "all_users[0]"
   ]
  },
  {
   "cell_type": "code",
   "execution_count": 21,
   "metadata": {},
   "outputs": [
    {
     "output_type": "execute_result",
     "data": {
      "text/plain": "   id                      name          username                      email  \\\n0   1             Leanne Graham              Bret          Sincere@april.biz   \n1   2              Ervin Howell         Antonette          Shanna@melissa.tv   \n2   3          Clementine Bauch          Samantha         Nathan@yesenia.net   \n3   4          Patricia Lebsack          Karianne  Julianne.OConner@kory.org   \n4   5          Chelsey Dietrich            Kamren   Lucio_Hettinger@annie.ca   \n5   6      Mrs. Dennis Schulist  Leopoldo_Corkery    Karley_Dach@jasper.info   \n6   7           Kurtis Weissnat      Elwyn.Skiles     Telly.Hoeger@billy.biz   \n7   8  Nicholas Runolfsdottir V     Maxime_Nienow       Sherwood@rosamond.me   \n8   9           Glenna Reichert          Delphine    Chaim_McDermott@dana.io   \n9  10        Clementina DuBuque    Moriah.Stanton     Rey.Padberg@karina.biz   \n\n                                             address                  phone  \\\n0  {'street': 'Kulas Light', 'suite': 'Apt. 556',...  1-770-736-8031 x56442   \n1  {'street': 'Victor Plains', 'suite': 'Suite 87...    010-692-6593 x09125   \n2  {'street': 'Douglas Extension', 'suite': 'Suit...         1-463-123-4447   \n3  {'street': 'Hoeger Mall', 'suite': 'Apt. 692',...      493-170-9623 x156   \n4  {'street': 'Skiles Walks', 'suite': 'Suite 351...          (254)954-1289   \n5  {'street': 'Norberto Crossing', 'suite': 'Apt....   1-477-935-8478 x6430   \n6  {'street': 'Rex Trail', 'suite': 'Suite 280', ...           210.067.6132   \n7  {'street': 'Ellsworth Summit', 'suite': 'Suite...      586.493.6943 x140   \n8  {'street': 'Dayna Park', 'suite': 'Suite 449',...   (775)976-6794 x41206   \n9  {'street': 'Kattie Turnpike', 'suite': 'Suite ...           024-648-3804   \n\n         website                                            company  \n0  hildegard.org  {'name': 'Romaguera-Crona', 'catchPhrase': 'Mu...  \n1  anastasia.net  {'name': 'Deckow-Crist', 'catchPhrase': 'Proac...  \n2    ramiro.info  {'name': 'Romaguera-Jacobson', 'catchPhrase': ...  \n3       kale.biz  {'name': 'Robel-Corkery', 'catchPhrase': 'Mult...  \n4   demarco.info  {'name': 'Keebler LLC', 'catchPhrase': 'User-c...  \n5        ola.org  {'name': 'Considine-Lockman', 'catchPhrase': '...  \n6       elvis.io  {'name': 'Johns Group', 'catchPhrase': 'Config...  \n7   jacynthe.com  {'name': 'Abernathy Group', 'catchPhrase': 'Im...  \n8     conrad.com  {'name': 'Yost and Sons', 'catchPhrase': 'Swit...  \n9    ambrose.net  {'name': 'Hoeger LLC', 'catchPhrase': 'Central...  ",
      "text/html": "<div>\n<style scoped>\n    .dataframe tbody tr th:only-of-type {\n        vertical-align: middle;\n    }\n\n    .dataframe tbody tr th {\n        vertical-align: top;\n    }\n\n    .dataframe thead th {\n        text-align: right;\n    }\n</style>\n<table border=\"1\" class=\"dataframe\">\n  <thead>\n    <tr style=\"text-align: right;\">\n      <th></th>\n      <th>id</th>\n      <th>name</th>\n      <th>username</th>\n      <th>email</th>\n      <th>address</th>\n      <th>phone</th>\n      <th>website</th>\n      <th>company</th>\n    </tr>\n  </thead>\n  <tbody>\n    <tr>\n      <th>0</th>\n      <td>1</td>\n      <td>Leanne Graham</td>\n      <td>Bret</td>\n      <td>Sincere@april.biz</td>\n      <td>{'street': 'Kulas Light', 'suite': 'Apt. 556',...</td>\n      <td>1-770-736-8031 x56442</td>\n      <td>hildegard.org</td>\n      <td>{'name': 'Romaguera-Crona', 'catchPhrase': 'Mu...</td>\n    </tr>\n    <tr>\n      <th>1</th>\n      <td>2</td>\n      <td>Ervin Howell</td>\n      <td>Antonette</td>\n      <td>Shanna@melissa.tv</td>\n      <td>{'street': 'Victor Plains', 'suite': 'Suite 87...</td>\n      <td>010-692-6593 x09125</td>\n      <td>anastasia.net</td>\n      <td>{'name': 'Deckow-Crist', 'catchPhrase': 'Proac...</td>\n    </tr>\n    <tr>\n      <th>2</th>\n      <td>3</td>\n      <td>Clementine Bauch</td>\n      <td>Samantha</td>\n      <td>Nathan@yesenia.net</td>\n      <td>{'street': 'Douglas Extension', 'suite': 'Suit...</td>\n      <td>1-463-123-4447</td>\n      <td>ramiro.info</td>\n      <td>{'name': 'Romaguera-Jacobson', 'catchPhrase': ...</td>\n    </tr>\n    <tr>\n      <th>3</th>\n      <td>4</td>\n      <td>Patricia Lebsack</td>\n      <td>Karianne</td>\n      <td>Julianne.OConner@kory.org</td>\n      <td>{'street': 'Hoeger Mall', 'suite': 'Apt. 692',...</td>\n      <td>493-170-9623 x156</td>\n      <td>kale.biz</td>\n      <td>{'name': 'Robel-Corkery', 'catchPhrase': 'Mult...</td>\n    </tr>\n    <tr>\n      <th>4</th>\n      <td>5</td>\n      <td>Chelsey Dietrich</td>\n      <td>Kamren</td>\n      <td>Lucio_Hettinger@annie.ca</td>\n      <td>{'street': 'Skiles Walks', 'suite': 'Suite 351...</td>\n      <td>(254)954-1289</td>\n      <td>demarco.info</td>\n      <td>{'name': 'Keebler LLC', 'catchPhrase': 'User-c...</td>\n    </tr>\n    <tr>\n      <th>5</th>\n      <td>6</td>\n      <td>Mrs. Dennis Schulist</td>\n      <td>Leopoldo_Corkery</td>\n      <td>Karley_Dach@jasper.info</td>\n      <td>{'street': 'Norberto Crossing', 'suite': 'Apt....</td>\n      <td>1-477-935-8478 x6430</td>\n      <td>ola.org</td>\n      <td>{'name': 'Considine-Lockman', 'catchPhrase': '...</td>\n    </tr>\n    <tr>\n      <th>6</th>\n      <td>7</td>\n      <td>Kurtis Weissnat</td>\n      <td>Elwyn.Skiles</td>\n      <td>Telly.Hoeger@billy.biz</td>\n      <td>{'street': 'Rex Trail', 'suite': 'Suite 280', ...</td>\n      <td>210.067.6132</td>\n      <td>elvis.io</td>\n      <td>{'name': 'Johns Group', 'catchPhrase': 'Config...</td>\n    </tr>\n    <tr>\n      <th>7</th>\n      <td>8</td>\n      <td>Nicholas Runolfsdottir V</td>\n      <td>Maxime_Nienow</td>\n      <td>Sherwood@rosamond.me</td>\n      <td>{'street': 'Ellsworth Summit', 'suite': 'Suite...</td>\n      <td>586.493.6943 x140</td>\n      <td>jacynthe.com</td>\n      <td>{'name': 'Abernathy Group', 'catchPhrase': 'Im...</td>\n    </tr>\n    <tr>\n      <th>8</th>\n      <td>9</td>\n      <td>Glenna Reichert</td>\n      <td>Delphine</td>\n      <td>Chaim_McDermott@dana.io</td>\n      <td>{'street': 'Dayna Park', 'suite': 'Suite 449',...</td>\n      <td>(775)976-6794 x41206</td>\n      <td>conrad.com</td>\n      <td>{'name': 'Yost and Sons', 'catchPhrase': 'Swit...</td>\n    </tr>\n    <tr>\n      <th>9</th>\n      <td>10</td>\n      <td>Clementina DuBuque</td>\n      <td>Moriah.Stanton</td>\n      <td>Rey.Padberg@karina.biz</td>\n      <td>{'street': 'Kattie Turnpike', 'suite': 'Suite ...</td>\n      <td>024-648-3804</td>\n      <td>ambrose.net</td>\n      <td>{'name': 'Hoeger LLC', 'catchPhrase': 'Central...</td>\n    </tr>\n  </tbody>\n</table>\n</div>"
     },
     "metadata": {},
     "execution_count": 21
    }
   ],
   "source": [
    "users = pd.DataFrame(all_users)\n",
    "users"
   ]
  },
  {
   "cell_type": "code",
   "execution_count": 22,
   "metadata": {},
   "outputs": [],
   "source": [
    "users.to_json('api_response.json', orient='records')"
   ]
  },
  {
   "cell_type": "code",
   "execution_count": null,
   "metadata": {},
   "outputs": [],
   "source": []
  }
 ]
}